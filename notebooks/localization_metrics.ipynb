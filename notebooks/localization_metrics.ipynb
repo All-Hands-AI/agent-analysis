{
 "cells": [
  {
   "cell_type": "code",
   "execution_count": 1,
   "metadata": {},
   "outputs": [
    {
     "name": "stderr",
     "output_type": "stream",
     "text": [
      "/Users/calvin/all-hands/agent-analysis/.venv/lib/python3.12/site-packages/tqdm/auto.py:21: TqdmWarning: IProgress not found. Please update jupyter and ipywidgets. See https://ipywidgets.readthedocs.io/en/stable/user_install.html\n",
      "  from .autonotebook import tqdm as notebook_tqdm\n"
     ]
    }
   ],
   "source": [
    "from analysis.models.data import Data\n",
    "\n",
    "with open(\"../data.json\") as f:\n",
    "    data = Data.model_validate_json(f.read())"
   ]
  },
  {
   "cell_type": "code",
   "execution_count": 2,
   "metadata": {},
   "outputs": [
    {
     "name": "stdout",
     "output_type": "stream",
     "text": [
      "Loaded 5 evaluations: localization-phase-prompt, localization-prompt-3, localization-prompt-2, localization-prompt-1, localization-default-prompt\n"
     ]
    }
   ],
   "source": [
    "from analysis.models.openhands import Evaluation\n",
    "import os\n",
    "\n",
    "# Load all data in the indicated directory\n",
    "EXPERIMENT_DIRECTORY = \"/Users/calvin/all-hands/data/localization\"\n",
    "subdirs = [d for d in os.listdir(EXPERIMENT_DIRECTORY) if os.path.isdir(os.path.join(EXPERIMENT_DIRECTORY, d))]\n",
    "evals = {\n",
    "    subdir: Evaluation.from_filepath(os.path.join(EXPERIMENT_DIRECTORY, subdir))\n",
    "    for subdir in subdirs\n",
    "}\n",
    "\n",
    "print(f\"Loaded {len(evals)} evaluations: {', '.join(evals.keys())}\")"
   ]
  },
  {
   "cell_type": "code",
   "execution_count": 3,
   "metadata": {},
   "outputs": [],
   "source": [
    "from typing import Any, Iterable\n",
    "# Utility functions for checking if a step is a read/write, what the location is, etc.\n",
    "\n",
    "def is_a_read(step: dict[str, Any], location: str | None = None, excluding: Iterable[str] | None = None) -> bool:\n",
    "    if location is not None:\n",
    "        if location not in str(step):\n",
    "            return False\n",
    "        \n",
    "    if excluding is not None:\n",
    "        if any(ex in str(step) for ex in excluding):\n",
    "            return False\n",
    "        \n",
    "    return \"read\" in step.get(\"action\", \"\")\n",
    "\n",
    "def is_a_write(step: dict[str, Any], location: str | None = None, excluding: Iterable[str] | None = None) -> bool:\n",
    "    if location is not None:\n",
    "        if location not in str(step):\n",
    "            return False\n",
    "        \n",
    "    if excluding is not None:\n",
    "        if any(ex in str(step) for ex in excluding):\n",
    "            return False\n",
    "        \n",
    "    return \"edit\" in step.get(\"observation\", \"\")\n",
    "\n",
    "def get_touched_file(step: dict[str, Any]) -> str:\n",
    "    return step[\"message\"].split(\" \")[-1]\n"
   ]
  },
  {
   "cell_type": "code",
   "execution_count": null,
   "metadata": {},
   "outputs": [
    {
     "ename": "HTTPError",
     "evalue": "404 Client Error: Not Found for url: https://raw.githubusercontent.com/astropy/astropy/cdb66059a2feb44ee49021874605ba90801f9986/reproduce.py",
     "output_type": "error",
     "traceback": [
      "\u001b[0;31m---------------------------------------------------------------------------\u001b[0m",
      "\u001b[0;31mHTTPError\u001b[0m                                 Traceback (most recent call last)",
      "Cell \u001b[0;32mIn[4], line 44\u001b[0m\n\u001b[1;32m     20\u001b[0m             rows\u001b[38;5;241m.\u001b[39mappend({\n\u001b[1;32m     21\u001b[0m                 \u001b[38;5;124m\"\u001b[39m\u001b[38;5;124mexperiment\u001b[39m\u001b[38;5;124m\"\u001b[39m: experiment,\n\u001b[1;32m     22\u001b[0m                 \u001b[38;5;124m\"\u001b[39m\u001b[38;5;124mrepo\u001b[39m\u001b[38;5;124m\"\u001b[39m: trajectory\u001b[38;5;241m.\u001b[39minstance_id\u001b[38;5;241m.\u001b[39msplit(\u001b[38;5;124m\"\u001b[39m\u001b[38;5;124m__\u001b[39m\u001b[38;5;124m\"\u001b[39m)[\u001b[38;5;241m0\u001b[39m],\n\u001b[0;32m   (...)\u001b[0m\n\u001b[1;32m     39\u001b[0m                 \u001b[38;5;124m\"\u001b[39m\u001b[38;5;124mother_writes\u001b[39m\u001b[38;5;124m\"\u001b[39m: \u001b[38;5;28msum\u001b[39m(\u001b[38;5;241m1\u001b[39m \u001b[38;5;28;01mfor\u001b[39;00m step \u001b[38;5;129;01min\u001b[39;00m trajectory\u001b[38;5;241m.\u001b[39mhistory \u001b[38;5;28;01mif\u001b[39;00m is_a_write(step, excluding\u001b[38;5;241m=\u001b[39m[file])),\n\u001b[1;32m     40\u001b[0m             })\n\u001b[1;32m     42\u001b[0m     \u001b[38;5;28;01mreturn\u001b[39;00m pd\u001b[38;5;241m.\u001b[39mDataFrame(rows)\n\u001b[0;32m---> 44\u001b[0m localization \u001b[38;5;241m=\u001b[39m pd\u001b[38;5;241m.\u001b[39mconcat([\u001b[43mlocalization_score\u001b[49m\u001b[43m(\u001b[49m\u001b[43mevaluation_output\u001b[49m\u001b[43m,\u001b[49m\u001b[43m \u001b[49m\u001b[43mexperiment\u001b[49m\u001b[43m)\u001b[49m \u001b[38;5;28;01mfor\u001b[39;00m experiment, evaluation_output \u001b[38;5;129;01min\u001b[39;00m evals\u001b[38;5;241m.\u001b[39mitems()])\n\u001b[1;32m     45\u001b[0m localization\n",
      "Cell \u001b[0;32mIn[4], line 14\u001b[0m, in \u001b[0;36mlocalization_score\u001b[0;34m(evaluation_output, experiment)\u001b[0m\n\u001b[1;32m     11\u001b[0m instance \u001b[38;5;241m=\u001b[39m data\u001b[38;5;241m.\u001b[39mget_instance(trajectory\u001b[38;5;241m.\u001b[39minstance_id)\n\u001b[1;32m     12\u001b[0m gold_patch \u001b[38;5;241m=\u001b[39m Patch\u001b[38;5;241m.\u001b[39mfrom_instance(instance)\n\u001b[0;32m---> 14\u001b[0m \u001b[43mPatch\u001b[49m\u001b[38;5;241;43m.\u001b[39;49m\u001b[43mfrom_github\u001b[49m\u001b[43m(\u001b[49m\u001b[43minstance\u001b[49m\u001b[38;5;241;43m.\u001b[39;49m\u001b[43mrepo\u001b[49m\u001b[43m,\u001b[49m\u001b[43m \u001b[49m\u001b[43minstance\u001b[49m\u001b[38;5;241;43m.\u001b[39;49m\u001b[43mbase_commit\u001b[49m\u001b[43m,\u001b[49m\u001b[43m \u001b[49m\u001b[43mtrajectory\u001b[49m\u001b[38;5;241;43m.\u001b[39;49m\u001b[43mtest_result\u001b[49m\u001b[43m[\u001b[49m\u001b[38;5;124;43m\"\u001b[39;49m\u001b[38;5;124;43mgit_patch\u001b[39;49m\u001b[38;5;124;43m\"\u001b[39;49m\u001b[43m]\u001b[49m\u001b[43m)\u001b[49m\n\u001b[1;32m     16\u001b[0m \u001b[38;5;28;01mfor\u001b[39;00m file \u001b[38;5;129;01min\u001b[39;00m gold_patch\u001b[38;5;241m.\u001b[39mdiffs\u001b[38;5;241m.\u001b[39mkeys():\n\u001b[1;32m     17\u001b[0m     all_reads \u001b[38;5;241m=\u001b[39m [i \u001b[38;5;28;01mfor\u001b[39;00m i, step \u001b[38;5;129;01min\u001b[39;00m \u001b[38;5;28menumerate\u001b[39m(trajectory\u001b[38;5;241m.\u001b[39mhistory) \u001b[38;5;28;01mif\u001b[39;00m is_a_read(step, file)]\n",
      "File \u001b[0;32m~/all-hands/agent-analysis/analysis/models/patch.py:134\u001b[0m, in \u001b[0;36mPatch.from_github\u001b[0;34m(repo, base_commit, patch)\u001b[0m\n\u001b[1;32m    132\u001b[0m files: \u001b[38;5;28mdict\u001b[39m[\u001b[38;5;28mstr\u001b[39m, \u001b[38;5;28mstr\u001b[39m] \u001b[38;5;241m=\u001b[39m {}\n\u001b[1;32m    133\u001b[0m \u001b[38;5;28;01mfor\u001b[39;00m filename, _ \u001b[38;5;129;01min\u001b[39;00m _parse_git_diff(patch)\u001b[38;5;241m.\u001b[39mitems():\n\u001b[0;32m--> 134\u001b[0m     files[filename] \u001b[38;5;241m=\u001b[39m \u001b[43m_get_source_from_github\u001b[49m\u001b[43m(\u001b[49m\u001b[43mrepo\u001b[49m\u001b[43m,\u001b[49m\u001b[43m \u001b[49m\u001b[43mbase_commit\u001b[49m\u001b[43m,\u001b[49m\u001b[43m \u001b[49m\u001b[43mfilename\u001b[49m\u001b[43m)\u001b[49m\n\u001b[1;32m    136\u001b[0m \u001b[38;5;28;01mreturn\u001b[39;00m Patch(patch\u001b[38;5;241m=\u001b[39mpatch, source\u001b[38;5;241m=\u001b[39mfiles)\n",
      "File \u001b[0;32m~/all-hands/agent-analysis/analysis/utility.py:60\u001b[0m, in \u001b[0;36mfs_cache.<locals>.decorator.<locals>.wrapper\u001b[0;34m(*args, **kwargs)\u001b[0m\n\u001b[1;32m     57\u001b[0m         \u001b[38;5;28;01mpass\u001b[39;00m\n\u001b[1;32m     59\u001b[0m \u001b[38;5;66;03m# Execute the function and cache the result\u001b[39;00m\n\u001b[0;32m---> 60\u001b[0m result \u001b[38;5;241m=\u001b[39m \u001b[43mfunc\u001b[49m\u001b[43m(\u001b[49m\u001b[38;5;241;43m*\u001b[39;49m\u001b[43margs\u001b[49m\u001b[43m,\u001b[49m\u001b[43m \u001b[49m\u001b[38;5;241;43m*\u001b[39;49m\u001b[38;5;241;43m*\u001b[39;49m\u001b[43mkwargs\u001b[49m\u001b[43m)\u001b[49m\n\u001b[1;32m     62\u001b[0m \u001b[38;5;66;03m# Save the result to cache\u001b[39;00m\n\u001b[1;32m     63\u001b[0m \u001b[38;5;28;01mtry\u001b[39;00m:\n",
      "File \u001b[0;32m~/all-hands/agent-analysis/analysis/models/patch.py:188\u001b[0m, in \u001b[0;36m_get_source_from_github\u001b[0;34m(repo, commit, path)\u001b[0m\n\u001b[1;32m    186\u001b[0m url \u001b[38;5;241m=\u001b[39m \u001b[38;5;124mf\u001b[39m\u001b[38;5;124m\"\u001b[39m\u001b[38;5;124mhttps://raw.githubusercontent.com/\u001b[39m\u001b[38;5;132;01m{\u001b[39;00mrepo\u001b[38;5;132;01m}\u001b[39;00m\u001b[38;5;124m/\u001b[39m\u001b[38;5;132;01m{\u001b[39;00mcommit\u001b[38;5;132;01m}\u001b[39;00m\u001b[38;5;124m/\u001b[39m\u001b[38;5;132;01m{\u001b[39;00mpath\u001b[38;5;132;01m}\u001b[39;00m\u001b[38;5;124m\"\u001b[39m\n\u001b[1;32m    187\u001b[0m response \u001b[38;5;241m=\u001b[39m requests\u001b[38;5;241m.\u001b[39mget(url)\n\u001b[0;32m--> 188\u001b[0m \u001b[43mresponse\u001b[49m\u001b[38;5;241;43m.\u001b[39;49m\u001b[43mraise_for_status\u001b[49m\u001b[43m(\u001b[49m\u001b[43m)\u001b[49m\n\u001b[1;32m    189\u001b[0m \u001b[38;5;28;01mreturn\u001b[39;00m response\u001b[38;5;241m.\u001b[39mtext\n",
      "File \u001b[0;32m~/all-hands/agent-analysis/.venv/lib/python3.12/site-packages/requests/models.py:1024\u001b[0m, in \u001b[0;36mResponse.raise_for_status\u001b[0;34m(self)\u001b[0m\n\u001b[1;32m   1019\u001b[0m     http_error_msg \u001b[38;5;241m=\u001b[39m (\n\u001b[1;32m   1020\u001b[0m         \u001b[38;5;124mf\u001b[39m\u001b[38;5;124m\"\u001b[39m\u001b[38;5;132;01m{\u001b[39;00m\u001b[38;5;28mself\u001b[39m\u001b[38;5;241m.\u001b[39mstatus_code\u001b[38;5;132;01m}\u001b[39;00m\u001b[38;5;124m Server Error: \u001b[39m\u001b[38;5;132;01m{\u001b[39;00mreason\u001b[38;5;132;01m}\u001b[39;00m\u001b[38;5;124m for url: \u001b[39m\u001b[38;5;132;01m{\u001b[39;00m\u001b[38;5;28mself\u001b[39m\u001b[38;5;241m.\u001b[39murl\u001b[38;5;132;01m}\u001b[39;00m\u001b[38;5;124m\"\u001b[39m\n\u001b[1;32m   1021\u001b[0m     )\n\u001b[1;32m   1023\u001b[0m \u001b[38;5;28;01mif\u001b[39;00m http_error_msg:\n\u001b[0;32m-> 1024\u001b[0m     \u001b[38;5;28;01mraise\u001b[39;00m HTTPError(http_error_msg, response\u001b[38;5;241m=\u001b[39m\u001b[38;5;28mself\u001b[39m)\n",
      "\u001b[0;31mHTTPError\u001b[0m: 404 Client Error: Not Found for url: https://raw.githubusercontent.com/astropy/astropy/cdb66059a2feb44ee49021874605ba90801f9986/reproduce.py"
     ]
    }
   ],
   "source": [
    "from typing import Any, Iterable\n",
    "import pandas as pd\n",
    "import requests\n",
    "\n",
    "from analysis.models.patch import Patch\n",
    "\n",
    "def localization_score(evaluation_output: Evaluation, experiment: str | None = None) -> pd.DataFrame:\n",
    "    rows = []\n",
    "    for trajectory in evaluation_output.output:\n",
    "        # Load the instance and generate a patch. We'll use this to find all files that have to be touched by a solution\n",
    "        # and to compute metrics over the file complexity (to see if these are correlated with OH's ability to localize)\n",
    "        instance = data.get_instance(trajectory.instance_id)\n",
    "        gold_patch = Patch.from_instance(instance)\n",
    "\n",
    "        try:\n",
    "            generated_patch = Patch.from_github(instance.repo, instance.base_commit, trajectory.test_result[\"git_patch\"])\n",
    "        except requests.HTTPError:\n",
    "            print(f\"Failed to load patch for {trajectory.instance_id}\")\n",
    "\n",
    "        for file in gold_patch.diffs.keys():\n",
    "            all_reads = [i for i, step in enumerate(trajectory.history) if is_a_read(step, file)]\n",
    "            all_writes = [i for i, step in enumerate(trajectory.history) if is_a_write(step, file)]\n",
    "            \n",
    "            rows.append({\n",
    "                \"experiment\": experiment,\n",
    "                \"repo\": trajectory.instance_id.split(\"__\")[0],\n",
    "                \"instance_id\": trajectory.instance_id,\n",
    "                \"resolved\": evaluation_output.is_resolved(trajectory.instance_id),\n",
    "                \"file\": file,\n",
    "                \"file_in_problem_statement\": file.split(\"/\")[-1] in instance.problem_statement,\n",
    "                \"path_in_problem_statement\": file in instance.problem_statement,\n",
    "                \"file_depth\": len(file.split(\"/\")),\n",
    "                \"steps\": len(trajectory.history),\n",
    "                \"reads\": len(all_reads),\n",
    "                \"writes\": len(all_writes),\n",
    "                \"first_read\": all_reads[0] if all_reads else -1,\n",
    "                \"last_read\": all_reads[-1] if all_reads else -1,\n",
    "                \"first_write\": all_writes[0] if all_writes else -1,\n",
    "                \"last_write\": all_writes[-1] if all_writes else -1,\n",
    "                \"total_reads\": sum(1 for step in trajectory.history if is_a_read(step)),\n",
    "                \"total_writes\": sum(1 for step in trajectory.history if is_a_write(step)),\n",
    "                \"other_reads\": sum(1 for step in trajectory.history if is_a_read(step, excluding=[file])),\n",
    "                \"other_writes\": sum(1 for step in trajectory.history if is_a_write(step, excluding=[file])),\n",
    "            })\n",
    "\n",
    "    return pd.DataFrame(rows)\n",
    "\n",
    "localization = pd.concat([localization_score(evaluation_output, experiment) for experiment, evaluation_output in evals.items()])\n",
    "localization"
   ]
  },
  {
   "cell_type": "code",
   "execution_count": 5,
   "metadata": {},
   "outputs": [
    {
     "name": "stdout",
     "output_type": "stream",
     "text": [
      "Total number of files: 288\n",
      "Files that are never read: 58\n",
      "...and in the problem statement: 5\n",
      "...and written to: 2\n",
      "...and still resolved: 3\n",
      "\n",
      "The culprits: ['django__django-12155', 'django__django-12663', 'matplotlib__matplotlib-25775']\n",
      "\n",
      "Instances without a location referenced in the problem statement: 42\n"
     ]
    }
   ],
   "source": [
    "# Total number of files\n",
    "print(f\"Total number of files: {len(localization)}\")\n",
    "\n",
    "# How many files are never read?\n",
    "never_read = localization[localization[\"reads\"] == 0]\n",
    "print(f\"Files that are never read: {len(never_read)}\")\n",
    "\n",
    "# Are any of those files in the problem statement?\n",
    "print(f\"...and in the problem statement: {len(never_read[never_read['file_in_problem_statement']])}\")\n",
    "\n",
    "# Do we write to files that are never read?\n",
    "print(f\"...and written to: {len(never_read[never_read['writes'] > 0])}\")\n",
    "\n",
    "# How many instances with a file never read are resolved?\n",
    "by_instance = never_read.groupby(\"instance_id\").agg({\"resolved\": \"max\"})\n",
    "print(f\"...and still resolved: {len(by_instance[by_instance['resolved']])}\")\n",
    "\n",
    "# The instances that are resolved without reading from a location\n",
    "resolved = by_instance[by_instance[\"resolved\"]].index.tolist()\n",
    "print(f\"\\nThe culprits: {resolved}\")\n",
    "\n",
    "# Instances without a location referenced in the problem statemen\n",
    "wo_referenced_location = localization.groupby(\"instance_id\").agg({\"path_in_problem_statement\": \"max\"})\n",
    "print(f\"\\nInstances without a location referenced in the problem statement: {len(wo_referenced_location[wo_referenced_location['path_in_problem_statement'] == 0])}\")"
   ]
  },
  {
   "cell_type": "code",
   "execution_count": 6,
   "metadata": {},
   "outputs": [],
   "source": [
    "# Grab the read/write-based column names\n",
    "read_write_columns = [col for col in localization.columns if col in [\"reads\", \"writes\", \"total_reads\", \"total_writes\", \"first_read\", \"last_read\", \"first_write\", \"last_write\", \"other_reads\", \"other_writes\"]]"
   ]
  },
  {
   "cell_type": "code",
   "execution_count": 7,
   "metadata": {},
   "outputs": [
    {
     "name": "stdout",
     "output_type": "stream",
     "text": [
      "Metric: reads, stat: 379.0, p-value: 0.167\n",
      "Metric: writes, stat: 271.0, p-value: 0.475\n",
      "Metric: first_read, stat: 443.5, p-value: 0.004\n",
      "Metric: last_read, stat: 270.0, p-value: 0.463\n",
      "Metric: first_write, stat: 478.0, p-value: 0.001\n",
      "Metric: last_write, stat: 239.0, p-value: 0.174\n",
      "Metric: total_reads, stat: 236.5, p-value: 0.165\n",
      "Metric: total_writes, stat: 191.0, p-value: 0.023\n",
      "Metric: other_reads, stat: 178.0, p-value: 0.011\n",
      "Metric: other_writes, stat: 217.5, p-value: 0.078\n"
     ]
    }
   ],
   "source": [
    "# Check how much overlap there is for each of the read/write columns using a Mann-Whitney U test\n",
    "from scipy.stats import mannwhitneyu\n",
    "\n",
    "mwu = localization.groupby(\"instance_id\").agg({\n",
    "    \"resolved\": \"max\",\n",
    "    \"reads\": \"sum\",\n",
    "    \"writes\": \"sum\",\n",
    "    \"total_reads\": \"sum\",\n",
    "    \"total_writes\": \"sum\",\n",
    "    \"other_reads\": \"sum\",\n",
    "    \"other_writes\": \"sum\",\n",
    "    \"first_read\": \"min\",\n",
    "    \"last_read\": \"max\",\n",
    "    \"first_write\": \"min\",\n",
    "    \"last_write\": \"max\",\n",
    "    })\n",
    "\n",
    "resolved = mwu[mwu[\"resolved\"] == 1]\n",
    "not_resolved = mwu[mwu[\"resolved\"] == 0]\n",
    "\n",
    "for column in read_write_columns:\n",
    "    result = mannwhitneyu(resolved[column], not_resolved[column])\n",
    "    print(f\"Metric: {column}, stat: {result.statistic}, p-value: {result.pvalue:.3f}\")"
   ]
  },
  {
   "cell_type": "code",
   "execution_count": 8,
   "metadata": {},
   "outputs": [
    {
     "data": {
      "text/html": [
       "\n",
       "<style>\n",
       "  #altair-viz-8fb336da1cb04fa5966f9cc6f2ba1eba.vega-embed {\n",
       "    width: 100%;\n",
       "    display: flex;\n",
       "  }\n",
       "\n",
       "  #altair-viz-8fb336da1cb04fa5966f9cc6f2ba1eba.vega-embed details,\n",
       "  #altair-viz-8fb336da1cb04fa5966f9cc6f2ba1eba.vega-embed details summary {\n",
       "    position: relative;\n",
       "  }\n",
       "</style>\n",
       "<div id=\"altair-viz-8fb336da1cb04fa5966f9cc6f2ba1eba\"></div>\n",
       "<script type=\"text/javascript\">\n",
       "  var VEGA_DEBUG = (typeof VEGA_DEBUG == \"undefined\") ? {} : VEGA_DEBUG;\n",
       "  (function(spec, embedOpt){\n",
       "    let outputDiv = document.currentScript.previousElementSibling;\n",
       "    if (outputDiv.id !== \"altair-viz-8fb336da1cb04fa5966f9cc6f2ba1eba\") {\n",
       "      outputDiv = document.getElementById(\"altair-viz-8fb336da1cb04fa5966f9cc6f2ba1eba\");\n",
       "    }\n",
       "\n",
       "    const paths = {\n",
       "      \"vega\": \"https://cdn.jsdelivr.net/npm/vega@5?noext\",\n",
       "      \"vega-lib\": \"https://cdn.jsdelivr.net/npm/vega-lib?noext\",\n",
       "      \"vega-lite\": \"https://cdn.jsdelivr.net/npm/vega-lite@5.20.1?noext\",\n",
       "      \"vega-embed\": \"https://cdn.jsdelivr.net/npm/vega-embed@6?noext\",\n",
       "    };\n",
       "\n",
       "    function maybeLoadScript(lib, version) {\n",
       "      var key = `${lib.replace(\"-\", \"\")}_version`;\n",
       "      return (VEGA_DEBUG[key] == version) ?\n",
       "        Promise.resolve(paths[lib]) :\n",
       "        new Promise(function(resolve, reject) {\n",
       "          var s = document.createElement('script');\n",
       "          document.getElementsByTagName(\"head\")[0].appendChild(s);\n",
       "          s.async = true;\n",
       "          s.onload = () => {\n",
       "            VEGA_DEBUG[key] = version;\n",
       "            return resolve(paths[lib]);\n",
       "          };\n",
       "          s.onerror = () => reject(`Error loading script: ${paths[lib]}`);\n",
       "          s.src = paths[lib];\n",
       "        });\n",
       "    }\n",
       "\n",
       "    function showError(err) {\n",
       "      outputDiv.innerHTML = `<div class=\"error\" style=\"color:red;\">${err}</div>`;\n",
       "      throw err;\n",
       "    }\n",
       "\n",
       "    function displayChart(vegaEmbed) {\n",
       "      vegaEmbed(outputDiv, spec, embedOpt)\n",
       "        .catch(err => showError(`Javascript Error: ${err.message}<br>This usually means there's a typo in your chart specification. See the javascript console for the full traceback.`));\n",
       "    }\n",
       "\n",
       "    if(typeof define === \"function\" && define.amd) {\n",
       "      requirejs.config({paths});\n",
       "      let deps = [\"vega-embed\"];\n",
       "      require(deps, displayChart, err => showError(`Error loading script: ${err.message}`));\n",
       "    } else {\n",
       "      maybeLoadScript(\"vega\", \"5\")\n",
       "        .then(() => maybeLoadScript(\"vega-lite\", \"5.20.1\"))\n",
       "        .then(() => maybeLoadScript(\"vega-embed\", \"6\"))\n",
       "        .catch(showError)\n",
       "        .then(() => displayChart(vegaEmbed));\n",
       "    }\n",
       "  })({\"config\": {\"view\": {\"continuousWidth\": 300, \"continuousHeight\": 300}}, \"hconcat\": [{\"mark\": {\"type\": \"boxplot\"}, \"encoding\": {\"color\": {\"field\": \"resolved\", \"type\": \"nominal\"}, \"x\": {\"axis\": {\"labels\": false}, \"field\": \"resolved\", \"title\": null, \"type\": \"nominal\"}, \"y\": {\"field\": \"reads\", \"type\": \"quantitative\"}}, \"height\": 300, \"width\": 50}, {\"mark\": {\"type\": \"boxplot\"}, \"encoding\": {\"color\": {\"field\": \"resolved\", \"type\": \"nominal\"}, \"x\": {\"axis\": {\"labels\": false}, \"field\": \"resolved\", \"title\": null, \"type\": \"nominal\"}, \"y\": {\"field\": \"writes\", \"type\": \"quantitative\"}}, \"height\": 300, \"width\": 50}, {\"mark\": {\"type\": \"boxplot\"}, \"encoding\": {\"color\": {\"field\": \"resolved\", \"type\": \"nominal\"}, \"x\": {\"axis\": {\"labels\": false}, \"field\": \"resolved\", \"title\": null, \"type\": \"nominal\"}, \"y\": {\"field\": \"first_read\", \"type\": \"quantitative\"}}, \"height\": 300, \"width\": 50}, {\"mark\": {\"type\": \"boxplot\"}, \"encoding\": {\"color\": {\"field\": \"resolved\", \"type\": \"nominal\"}, \"x\": {\"axis\": {\"labels\": false}, \"field\": \"resolved\", \"title\": null, \"type\": \"nominal\"}, \"y\": {\"field\": \"last_read\", \"type\": \"quantitative\"}}, \"height\": 300, \"width\": 50}, {\"mark\": {\"type\": \"boxplot\"}, \"encoding\": {\"color\": {\"field\": \"resolved\", \"type\": \"nominal\"}, \"x\": {\"axis\": {\"labels\": false}, \"field\": \"resolved\", \"title\": null, \"type\": \"nominal\"}, \"y\": {\"field\": \"first_write\", \"type\": \"quantitative\"}}, \"height\": 300, \"width\": 50}, {\"mark\": {\"type\": \"boxplot\"}, \"encoding\": {\"color\": {\"field\": \"resolved\", \"type\": \"nominal\"}, \"x\": {\"axis\": {\"labels\": false}, \"field\": \"resolved\", \"title\": null, \"type\": \"nominal\"}, \"y\": {\"field\": \"last_write\", \"type\": \"quantitative\"}}, \"height\": 300, \"width\": 50}, {\"mark\": {\"type\": \"boxplot\"}, \"encoding\": {\"color\": {\"field\": \"resolved\", \"type\": \"nominal\"}, \"x\": {\"axis\": {\"labels\": false}, \"field\": \"resolved\", \"title\": null, \"type\": \"nominal\"}, \"y\": {\"field\": \"total_reads\", \"type\": \"quantitative\"}}, \"height\": 300, \"width\": 50}, {\"mark\": {\"type\": \"boxplot\"}, \"encoding\": {\"color\": {\"field\": \"resolved\", \"type\": \"nominal\"}, \"x\": {\"axis\": {\"labels\": false}, \"field\": \"resolved\", \"title\": null, \"type\": \"nominal\"}, \"y\": {\"field\": \"total_writes\", \"type\": \"quantitative\"}}, \"height\": 300, \"width\": 50}, {\"mark\": {\"type\": \"boxplot\"}, \"encoding\": {\"color\": {\"field\": \"resolved\", \"type\": \"nominal\"}, \"x\": {\"axis\": {\"labels\": false}, \"field\": \"resolved\", \"title\": null, \"type\": \"nominal\"}, \"y\": {\"field\": \"other_reads\", \"type\": \"quantitative\"}}, \"height\": 300, \"width\": 50}, {\"mark\": {\"type\": \"boxplot\"}, \"encoding\": {\"color\": {\"field\": \"resolved\", \"type\": \"nominal\"}, \"x\": {\"axis\": {\"labels\": false}, \"field\": \"resolved\", \"title\": null, \"type\": \"nominal\"}, \"y\": {\"field\": \"other_writes\", \"type\": \"quantitative\"}}, \"height\": 300, \"width\": 50}], \"data\": {\"name\": \"data-4fbc0692ce5afbe325398ae3740a6057\"}, \"title\": \"Distribution of read/write metrics based on resolved or not\", \"$schema\": \"https://vega.github.io/schema/vega-lite/v5.20.1.json\", \"datasets\": {\"data-4fbc0692ce5afbe325398ae3740a6057\": [{\"resolved\": true, \"reads\": 5, \"writes\": 6, \"total_reads\": 7, \"total_writes\": 17, \"other_reads\": 2, \"other_writes\": 11, \"first_read\": 3, \"last_read\": 7, \"first_write\": 10, \"last_write\": 22}, {\"resolved\": false, \"reads\": 22, \"writes\": 26, \"total_reads\": 28, \"total_writes\": 51, \"other_reads\": 6, \"other_writes\": 25, \"first_read\": 3, \"last_read\": 93, \"first_write\": 6, \"last_write\": 100}, {\"resolved\": true, \"reads\": 8, \"writes\": 9, \"total_reads\": 15, \"total_writes\": 17, \"other_reads\": 7, \"other_writes\": 8, \"first_read\": 3, \"last_read\": 25, \"first_write\": 12, \"last_write\": 36}, {\"resolved\": false, \"reads\": 5, \"writes\": 79, \"total_reads\": 24, \"total_writes\": 178, \"other_reads\": 19, \"other_writes\": 99, \"first_read\": -1, \"last_read\": 19, \"first_write\": -1, \"last_write\": 100}, {\"resolved\": false, \"reads\": 5, \"writes\": 65, \"total_reads\": 7, \"total_writes\": 79, \"other_reads\": 2, \"other_writes\": 14, \"first_read\": 3, \"last_read\": 91, \"first_write\": 10, \"last_write\": 100}, {\"resolved\": true, \"reads\": 14, \"writes\": 15, \"total_reads\": 14, \"total_writes\": 66, \"other_reads\": 0, \"other_writes\": 51, \"first_read\": 3, \"last_read\": 85, \"first_write\": 12, \"last_write\": 96}, {\"resolved\": true, \"reads\": 7, \"writes\": 5, \"total_reads\": 12, \"total_writes\": 36, \"other_reads\": 5, \"other_writes\": 31, \"first_read\": 5, \"last_read\": 17, \"first_write\": 18, \"last_write\": 20}, {\"resolved\": false, \"reads\": 10, \"writes\": 12, \"total_reads\": 15, \"total_writes\": 36, \"other_reads\": 5, \"other_writes\": 24, \"first_read\": 3, \"last_read\": 97, \"first_write\": 14, \"last_write\": 46}, {\"resolved\": true, \"reads\": 12, \"writes\": 10, \"total_reads\": 24, \"total_writes\": 53, \"other_reads\": 12, \"other_writes\": 43, \"first_read\": 5, \"last_read\": 59, \"first_write\": 18, \"last_write\": 70}, {\"resolved\": true, \"reads\": 15, \"writes\": 7, \"total_reads\": 15, \"total_writes\": 32, \"other_reads\": 0, \"other_writes\": 25, \"first_read\": 3, \"last_read\": 13, \"first_write\": 16, \"last_write\": 50}, {\"resolved\": true, \"reads\": 5, \"writes\": 9, \"total_reads\": 20, \"total_writes\": 86, \"other_reads\": 15, \"other_writes\": 77, \"first_read\": -1, \"last_read\": 7, \"first_write\": -1, \"last_write\": 32}, {\"resolved\": true, \"reads\": 6, \"writes\": 12, \"total_reads\": 8, \"total_writes\": 50, \"other_reads\": 2, \"other_writes\": 38, \"first_read\": 5, \"last_read\": 33, \"first_write\": 6, \"last_write\": 70}, {\"resolved\": false, \"reads\": 18, \"writes\": 3, \"total_reads\": 26, \"total_writes\": 55, \"other_reads\": 8, \"other_writes\": 52, \"first_read\": -1, \"last_read\": 55, \"first_write\": -1, \"last_write\": 62}, {\"resolved\": true, \"reads\": 0, \"writes\": 0, \"total_reads\": 23, \"total_writes\": 68, \"other_reads\": 23, \"other_writes\": 68, \"first_read\": -1, \"last_read\": -1, \"first_write\": -1, \"last_write\": -1}, {\"resolved\": true, \"reads\": 15, \"writes\": 21, \"total_reads\": 17, \"total_writes\": 68, \"other_reads\": 2, \"other_writes\": 47, \"first_read\": 3, \"last_read\": 59, \"first_write\": 20, \"last_write\": 86}, {\"resolved\": false, \"reads\": 2, \"writes\": 0, \"total_reads\": 29, \"total_writes\": 87, \"other_reads\": 27, \"other_writes\": 87, \"first_read\": -1, \"last_read\": 31, \"first_write\": -1, \"last_write\": -1}, {\"resolved\": true, \"reads\": 8, \"writes\": 15, \"total_reads\": 12, \"total_writes\": 47, \"other_reads\": 4, \"other_writes\": 32, \"first_read\": 7, \"last_read\": 51, \"first_write\": 6, \"last_write\": 74}, {\"resolved\": true, \"reads\": 5, \"writes\": 5, \"total_reads\": 6, \"total_writes\": 23, \"other_reads\": 1, \"other_writes\": 18, \"first_read\": 3, \"last_read\": 5, \"first_write\": 14, \"last_write\": 16}, {\"resolved\": true, \"reads\": 25, \"writes\": 14, \"total_reads\": 47, \"total_writes\": 57, \"other_reads\": 22, \"other_writes\": 43, \"first_read\": 5, \"last_read\": 41, \"first_write\": 16, \"last_write\": 80}, {\"resolved\": false, \"reads\": 6, \"writes\": 22, \"total_reads\": 11, \"total_writes\": 64, \"other_reads\": 5, \"other_writes\": 42, \"first_read\": 5, \"last_read\": 15, \"first_write\": 10, \"last_write\": 62}, {\"resolved\": true, \"reads\": 8, \"writes\": 9, \"total_reads\": 12, \"total_writes\": 65, \"other_reads\": 4, \"other_writes\": 56, \"first_read\": 3, \"last_read\": 61, \"first_write\": 14, \"last_write\": 82}, {\"resolved\": false, \"reads\": 12, \"writes\": 35, \"total_reads\": 15, \"total_writes\": 76, \"other_reads\": 3, \"other_writes\": 41, \"first_read\": 3, \"last_read\": 71, \"first_write\": 12, \"last_write\": 100}, {\"resolved\": true, \"reads\": 19, \"writes\": 42, \"total_reads\": 19, \"total_writes\": 75, \"other_reads\": 0, \"other_writes\": 33, \"first_read\": 3, \"last_read\": 35, \"first_write\": 16, \"last_write\": 100}, {\"resolved\": false, \"reads\": 17, \"writes\": 7, \"total_reads\": 59, \"total_writes\": 63, \"other_reads\": 42, \"other_writes\": 56, \"first_read\": -1, \"last_read\": 99, \"first_write\": -1, \"last_write\": 98}, {\"resolved\": true, \"reads\": 13, \"writes\": 41, \"total_reads\": 48, \"total_writes\": 171, \"other_reads\": 35, \"other_writes\": 130, \"first_read\": -1, \"last_read\": 71, \"first_write\": -1, \"last_write\": 76}, {\"resolved\": false, \"reads\": 10, \"writes\": 20, \"total_reads\": 28, \"total_writes\": 80, \"other_reads\": 18, \"other_writes\": 60, \"first_read\": -1, \"last_read\": 29, \"first_write\": -1, \"last_write\": 84}, {\"resolved\": true, \"reads\": 7, \"writes\": 12, \"total_reads\": 11, \"total_writes\": 29, \"other_reads\": 4, \"other_writes\": 17, \"first_read\": 3, \"last_read\": 17, \"first_write\": 12, \"last_write\": 60}, {\"resolved\": true, \"reads\": 9, \"writes\": 14, \"total_reads\": 9, \"total_writes\": 31, \"other_reads\": 0, \"other_writes\": 17, \"first_read\": 3, \"last_read\": 61, \"first_write\": 12, \"last_write\": 70}, {\"resolved\": true, \"reads\": 5, \"writes\": 8, \"total_reads\": 6, \"total_writes\": 22, \"other_reads\": 1, \"other_writes\": 14, \"first_read\": 3, \"last_read\": 7, \"first_write\": 10, \"last_write\": 40}, {\"resolved\": true, \"reads\": 31, \"writes\": 53, \"total_reads\": 40, \"total_writes\": 71, \"other_reads\": 9, \"other_writes\": 18, \"first_read\": 3, \"last_read\": 65, \"first_write\": 12, \"last_write\": 100}, {\"resolved\": true, \"reads\": 6, \"writes\": 9, \"total_reads\": 9, \"total_writes\": 23, \"other_reads\": 3, \"other_writes\": 14, \"first_read\": 5, \"last_read\": 21, \"first_write\": 12, \"last_write\": 30}, {\"resolved\": true, \"reads\": 31, \"writes\": 26, \"total_reads\": 36, \"total_writes\": 35, \"other_reads\": 5, \"other_writes\": 9, \"first_read\": 3, \"last_read\": 59, \"first_write\": 16, \"last_write\": 100}, {\"resolved\": true, \"reads\": 11, \"writes\": 46, \"total_reads\": 15, \"total_writes\": 63, \"other_reads\": 4, \"other_writes\": 17, \"first_read\": 3, \"last_read\": 47, \"first_write\": 10, \"last_write\": 52}, {\"resolved\": true, \"reads\": 6, \"writes\": 44, \"total_reads\": 32, \"total_writes\": 77, \"other_reads\": 26, \"other_writes\": 33, \"first_read\": 3, \"last_read\": 7, \"first_write\": 12, \"last_write\": 100}, {\"resolved\": false, \"reads\": 5, \"writes\": 24, \"total_reads\": 8, \"total_writes\": 31, \"other_reads\": 3, \"other_writes\": 7, \"first_read\": 3, \"last_read\": 5, \"first_write\": 6, \"last_write\": 100}, {\"resolved\": false, \"reads\": 3, \"writes\": 45, \"total_reads\": 30, \"total_writes\": 105, \"other_reads\": 27, \"other_writes\": 60, \"first_read\": -1, \"last_read\": 25, \"first_write\": -1, \"last_write\": 100}, {\"resolved\": false, \"reads\": 10, \"writes\": 28, \"total_reads\": 21, \"total_writes\": 48, \"other_reads\": 11, \"other_writes\": 20, \"first_read\": 13, \"last_read\": 31, \"first_write\": 20, \"last_write\": 64}, {\"resolved\": false, \"reads\": 19, \"writes\": 44, \"total_reads\": 52, \"total_writes\": 124, \"other_reads\": 33, \"other_writes\": 80, \"first_read\": -1, \"last_read\": 61, \"first_write\": -1, \"last_write\": 98}, {\"resolved\": true, \"reads\": 39, \"writes\": 29, \"total_reads\": 50, \"total_writes\": 52, \"other_reads\": 11, \"other_writes\": 23, \"first_read\": 7, \"last_read\": 99, \"first_write\": 18, \"last_write\": 98}, {\"resolved\": false, \"reads\": 4, \"writes\": 27, \"total_reads\": 24, \"total_writes\": 79, \"other_reads\": 20, \"other_writes\": 52, \"first_read\": -1, \"last_read\": 59, \"first_write\": -1, \"last_write\": 100}, {\"resolved\": false, \"reads\": 13, \"writes\": 10, \"total_reads\": 32, \"total_writes\": 36, \"other_reads\": 19, \"other_writes\": 26, \"first_read\": 5, \"last_read\": 71, \"first_write\": 18, \"last_write\": 84}, {\"resolved\": false, \"reads\": 16, \"writes\": 34, \"total_reads\": 36, \"total_writes\": 110, \"other_reads\": 20, \"other_writes\": 76, \"first_read\": -1, \"last_read\": 99, \"first_write\": -1, \"last_write\": 100}, {\"resolved\": false, \"reads\": 8, \"writes\": 39, \"total_reads\": 8, \"total_writes\": 54, \"other_reads\": 0, \"other_writes\": 15, \"first_read\": 3, \"last_read\": 39, \"first_write\": 4, \"last_write\": 100}, {\"resolved\": false, \"reads\": 1, \"writes\": 0, \"total_reads\": 6, \"total_writes\": 17, \"other_reads\": 5, \"other_writes\": 17, \"first_read\": -1, \"last_read\": 15, \"first_write\": -1, \"last_write\": -1}, {\"resolved\": false, \"reads\": 0, \"writes\": 0, \"total_reads\": 55, \"total_writes\": 52, \"other_reads\": 55, \"other_writes\": 52, \"first_read\": -1, \"last_read\": -1, \"first_write\": -1, \"last_write\": -1}, {\"resolved\": false, \"reads\": 0, \"writes\": 0, \"total_reads\": 106, \"total_writes\": 134, \"other_reads\": 106, \"other_writes\": 134, \"first_read\": -1, \"last_read\": -1, \"first_write\": -1, \"last_write\": -1}, {\"resolved\": false, \"reads\": 6, \"writes\": 75, \"total_reads\": 12, \"total_writes\": 92, \"other_reads\": 6, \"other_writes\": 17, \"first_read\": 3, \"last_read\": 25, \"first_write\": 8, \"last_write\": 100}, {\"resolved\": true, \"reads\": 16, \"writes\": 60, \"total_reads\": 16, \"total_writes\": 80, \"other_reads\": 0, \"other_writes\": 20, \"first_read\": 5, \"last_read\": 75, \"first_write\": 6, \"last_write\": 100}, {\"resolved\": true, \"reads\": 6, \"writes\": 24, \"total_reads\": 24, \"total_writes\": 46, \"other_reads\": 18, \"other_writes\": 22, \"first_read\": 3, \"last_read\": 17, \"first_write\": 10, \"last_write\": 98}, {\"resolved\": true, \"reads\": 12, \"writes\": 26, \"total_reads\": 19, \"total_writes\": 44, \"other_reads\": 7, \"other_writes\": 18, \"first_read\": 3, \"last_read\": 31, \"first_write\": 12, \"last_write\": 98}]}}, {\"mode\": \"vega-lite\"});\n",
       "</script>"
      ],
      "text/plain": [
       "alt.HConcatChart(...)"
      ]
     },
     "execution_count": 8,
     "metadata": {},
     "output_type": "execute_result"
    }
   ],
   "source": [
    "import altair as alt\n",
    "\n",
    "# Visualizing the differences in the distributions of the top 3 features based on resolved or not\n",
    "plots = []\n",
    "for feature in read_write_columns:\n",
    "    chart = alt.Chart(mwu).mark_boxplot().encode(\n",
    "        alt.X(\"resolved\").title(None).axis(labels=False),\n",
    "        y=feature,\n",
    "        color=\"resolved:N\"   \n",
    "    ).properties(\n",
    "        width=50,\n",
    "        height=300\n",
    "    )\n",
    "    plots.append(chart)\n",
    "\n",
    "alt.hconcat(*plots).properties(title=\"Distribution of read/write metrics based on resolved or not\")"
   ]
  },
  {
   "cell_type": "code",
   "execution_count": null,
   "metadata": {},
   "outputs": [
    {
     "ename": "NameError",
     "evalue": "name 'output' is not defined",
     "output_type": "error",
     "traceback": [
      "\u001b[0;31m---------------------------------------------------------------------------\u001b[0m",
      "\u001b[0;31mNameError\u001b[0m                                 Traceback (most recent call last)",
      "Cell \u001b[0;32mIn[9], line 5\u001b[0m\n\u001b[1;32m      1\u001b[0m \u001b[38;5;66;03m# Build a new dataframe based on the read/write performance of each step\u001b[39;00m\n\u001b[1;32m      3\u001b[0m rows \u001b[38;5;241m=\u001b[39m []\n\u001b[0;32m----> 5\u001b[0m \u001b[38;5;28;01mfor\u001b[39;00m trajectory \u001b[38;5;129;01min\u001b[39;00m \u001b[43moutput\u001b[49m\u001b[38;5;241m.\u001b[39mtrajectories:\n\u001b[1;32m      6\u001b[0m     locations \u001b[38;5;241m=\u001b[39m [\u001b[38;5;124m\"\u001b[39m\u001b[38;5;124mworkspace/reproduce.py\u001b[39m\u001b[38;5;124m\"\u001b[39m, \u001b[38;5;241m*\u001b[39mlocalization[localization[\u001b[38;5;124m\"\u001b[39m\u001b[38;5;124minstance_id\u001b[39m\u001b[38;5;124m\"\u001b[39m] \u001b[38;5;241m==\u001b[39m trajectory\u001b[38;5;241m.\u001b[39minstance_id][\u001b[38;5;124m\"\u001b[39m\u001b[38;5;124mlocation\u001b[39m\u001b[38;5;124m\"\u001b[39m]]\n\u001b[1;32m      8\u001b[0m     correct_reads, total_reads \u001b[38;5;241m=\u001b[39m \u001b[38;5;241m0\u001b[39m, \u001b[38;5;241m0\u001b[39m\n",
      "\u001b[0;31mNameError\u001b[0m: name 'output' is not defined"
     ]
    }
   ],
   "source": [
    "# Build a new dataframe based on the read/write performance of each step\n",
    "\n",
    "rows = []\n",
    "\n",
    "for trajectory in output.trajectories:\n",
    "    locations = [\"workspace/reproduce.py\", *localization[localization[\"instance_id\"] == trajectory.instance_id][\"location\"]]\n",
    "\n",
    "    correct_reads, total_reads = 0, 0\n",
    "    correct_writes, total_writes = 0, 0\n",
    "\n",
    "    for index, step in enumerate(trajectory.history):\n",
    "        location: str = \"\"\n",
    "        behavior: str = \"other\"\n",
    "        # Handle the five cases: good read, bad read, good write, bad write, other\n",
    "        if is_a_read(step):\n",
    "            total_reads += 1\n",
    "            behavior = \"bad read\"\n",
    "            message = step.get(\"message\", \"\")\n",
    "            location = step[\"message\"].split(\" \")[-1]\n",
    "            \n",
    "            if any(loc in message for loc in locations) or not location.endswith(\".py\"):\n",
    "                correct_reads += 1\n",
    "                behavior = \"good read\"\n",
    "            \n",
    "            location = step[\"message\"].split(\" \")[-1]\n",
    "\n",
    "\n",
    "        elif is_a_write(step):\n",
    "            total_writes += 1\n",
    "            behavior = \"bad write\"\n",
    "            message = step.get(\"message\", \"\")\n",
    "            if any(location in message for location in locations):\n",
    "                correct_writes += 1\n",
    "                behavior = \"good write\"\n",
    "\n",
    "            location = step[\"message\"].split(\" \")[-1]\n",
    "\n",
    "        rows.append({\n",
    "            \"repo\": trajectory.instance_id.split(\"__\")[0],\n",
    "            \"instance_id\": trajectory.instance_id,\n",
    "            \"step\": index,\n",
    "            \"behavior\": behavior,\n",
    "            \"correct_reads\": correct_reads,\n",
    "            \"total_reads\": total_reads,\n",
    "            \"read_accuracy\": correct_reads / total_reads if total_reads > 0 else 0,\n",
    "            \"correct_writes\": correct_writes,\n",
    "            \"total_writes\": total_writes,\n",
    "            \"write_accuracy\": correct_writes / total_writes if total_writes > 0 else 0,\n",
    "            \"localization_accuracy\": (correct_reads + correct_writes) / (total_reads + total_writes) if total_reads + total_writes > 0 else 0,\n",
    "            \"resolved\": output.is_resolved(trajectory.instance_id),\n",
    "            \"location\": location,\n",
    "        })\n",
    "\n",
    "stepwise_localization = pd.DataFrame(rows)"
   ]
  },
  {
   "cell_type": "code",
   "execution_count": null,
   "metadata": {},
   "outputs": [],
   "source": [
    "stepwise_localization['resolved'].value_counts()"
   ]
  },
  {
   "cell_type": "code",
   "execution_count": null,
   "metadata": {},
   "outputs": [],
   "source": [
    "alt.data_transformers.disable_max_rows()"
   ]
  },
  {
   "cell_type": "code",
   "execution_count": null,
   "metadata": {},
   "outputs": [],
   "source": [
    "# Graph average read accuracy by repo\n",
    "alt.Chart(stepwise_localization).mark_line().encode(\n",
    "    x=\"step\",\n",
    "    y=\"mean(read_accuracy)\",\n",
    "    color=\"repo\")"
   ]
  },
  {
   "cell_type": "code",
   "execution_count": null,
   "metadata": {},
   "outputs": [],
   "source": [
    "# Graph average write accuracy by repo\n",
    "alt.Chart(stepwise_localization).mark_line().encode(\n",
    "    x=\"step\",\n",
    "    y=\"mean(write_accuracy)\",\n",
    "    color=\"repo\")"
   ]
  },
  {
   "cell_type": "code",
   "execution_count": null,
   "metadata": {},
   "outputs": [],
   "source": [
    "# Graph average localization accuracy by repo\n",
    "alt.Chart(stepwise_localization).mark_line().encode(\n",
    "    x=\"step\",\n",
    "    y=\"mean(localization_accuracy)\",\n",
    "    color=\"repo\")"
   ]
  },
  {
   "cell_type": "code",
   "execution_count": null,
   "metadata": {},
   "outputs": [],
   "source": [
    "# Graph each trajectory by per-step behavior\n",
    "alt.Chart(stepwise_localization).mark_point(filled=True, size=50).encode(\n",
    "    alt.X(\"step:O\").title(None).axis(None),\n",
    "    alt.Y(\"instance_id:N\").title(None),\n",
    "    alt.Color(\"behavior:N\", title=\"Behavior\", scale=alt.Scale(domain=[\"good read\", \"bad read\", \"good write\", \"bad write\", \"other\"], range=[\"green\", \"red\", \"blue\", \"yellow\", \"gray\"])),\n",
    "    alt.Shape(\"resolved\", scale=alt.Scale(domain=[True, False], range=[\"square\", \"cross\"])),\n",
    "    alt.Tooltip(\"location\")\n",
    ").properties(width=1500, height=4000)"
   ]
  }
 ],
 "metadata": {
  "kernelspec": {
   "display_name": ".venv",
   "language": "python",
   "name": "python3"
  },
  "language_info": {
   "codemirror_mode": {
    "name": "ipython",
    "version": 3
   },
   "file_extension": ".py",
   "mimetype": "text/x-python",
   "name": "python",
   "nbconvert_exporter": "python",
   "pygments_lexer": "ipython3",
   "version": "3.12.7"
  }
 },
 "nbformat": 4,
 "nbformat_minor": 2
}
