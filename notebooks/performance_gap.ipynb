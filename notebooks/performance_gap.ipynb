{
 "cells": [
  {
   "cell_type": "markdown",
   "metadata": {},
   "source": [
    "This notebook requires pre-computed data. You can get this data by running:\n",
    "\n",
    "`python3 -m analysis download`\n",
    "\n",
    "and then\n",
    "\n",
    "`python3 -m analysis compute-features`\n",
    "\n",
    "This will build a `data.json` and `features.csv` file in the root of this directory."
   ]
  },
  {
   "cell_type": "code",
   "execution_count": null,
   "metadata": {},
   "outputs": [],
   "source": [
    "import pandas as pd\n",
    "from analysis.models.data import Data\n",
    "from analysis.performance_gap import top_performers, unresolved_instances\n",
    "\n",
    "from sklearn.model_selection import train_test_split\n",
    "from sklearn.preprocessing import StandardScaler\n",
    "from sklearn.ensemble import RandomForestClassifier\n",
    "from sklearn.metrics import classification_report\n",
    "\n",
    "TOP_K = 3\n",
    "\n",
    "with open(\"data.json\") as f:\n",
    "    data = Data.model_validate_json(f.read())\n",
    "\n",
    "df = pd.read_csv(\"features.csv\")\n",
    "\n",
    "def good_metric(metric: str) -> bool:\n",
    "    if metric == \"instance_id\":\n",
    "        return False\n",
    "\n",
    "    if metric.startswith(\"instance\") or metric.startswith(\"patch\"):\n",
    "        return True\n",
    "\n",
    "    if metric.endswith(\"diff\"):\n",
    "        return True\n",
    "\n",
    "    return False\n"
   ]
  },
  {
   "cell_type": "code",
   "execution_count": null,
   "metadata": {},
   "outputs": [],
   "source": [
    "# Drop any features that are zero for all instances (this is the default and indicative of some kind of failure)\n",
    "df = df.loc[:, (df != 0).any(axis=0)]\n",
    "metrics = [column for column in df.columns if good_metric(column)]"
   ]
  },
  {
   "cell_type": "code",
   "execution_count": null,
   "metadata": {},
   "outputs": [],
   "source": [
    "print(f\"Number of models: {len(data.systems)}\")\n",
    "print(f\"Number of instances: {len(data.dataset.instances)}\")\n",
    "print(f\"Number of features: {len(df.columns)}\")"
   ]
  },
  {
   "cell_type": "code",
   "execution_count": null,
   "metadata": {},
   "outputs": [],
   "source": [
    "# Source model is always OpenHands\n",
    "source = data.systems[data.closest_system(\"OpenHands\")]\n",
    "targets = top_performers(data.systems.values(), k=TOP_K)"
   ]
  },
  {
   "cell_type": "code",
   "execution_count": null,
   "metadata": {},
   "outputs": [],
   "source": [
    "print(f\"Source model: {source.metadata.name}\")\n",
    "print(f\"Target models: \\n{'\\n'.join(['  - ' + t.metadata.name for t in targets])}\")"
   ]
  },
  {
   "cell_type": "code",
   "execution_count": null,
   "metadata": {},
   "outputs": [],
   "source": [
    "# Compute the performance gap\n",
    "gap = unresolved_instances(source, targets, threshold=1)\n",
    "df['gap'] = df['instance_id'].apply(lambda instance_id: 1 if instance_id in gap else 0)"
   ]
  },
  {
   "cell_type": "code",
   "execution_count": null,
   "metadata": {},
   "outputs": [],
   "source": [
    "print(f\"Number of instances with performance gap: {len(gap)}\")"
   ]
  },
  {
   "cell_type": "code",
   "execution_count": null,
   "metadata": {},
   "outputs": [],
   "source": [
    "from scipy import stats # type: ignore\n",
    "\n",
    "max_stat = (len(data.dataset.instances) - len(gap))  * len(gap)\n",
    "\n",
    "results = []\n",
    "for metric in metrics:\n",
    "    result = stats.mannwhitneyu(\n",
    "        df[df['gap']==0][metric], \n",
    "        df[df['gap']==1][metric]\n",
    "    )\n",
    "    results.append({\n",
    "        \"metric\": metric,\n",
    "        \"p value\": result.pvalue,\n",
    "        \"relative statistic\": (result.statistic / max_stat) - 0.5\n",
    "    })\n",
    "\n",
    "print(\"Mann-Whitney U Test Results\")\n",
    "results = sorted(results, key=lambda x: abs(x[\"relative statistic\"]), reverse=True)\n",
    "for result in results[:10]:\n",
    "    print(f\"Metric: {result['metric']}, relative statistic: {result['relative statistic']*100:0.2f}%, p: {result['p value']:.2f}\")"
   ]
  },
  {
   "cell_type": "code",
   "execution_count": null,
   "metadata": {},
   "outputs": [],
   "source": [
    "from sklearn.feature_selection import f_classif\n",
    "\n",
    "# F-scores for each feature\n",
    "f_scores, p_values = f_classif(df[metrics], df['gap'])\n",
    "f_scores\n",
    "feature_scores = pd.DataFrame({\n",
    "    'feature': df[metrics].columns,\n",
    "    'F_score': f_scores,\n",
    "    'p_value': p_values\n",
    "})\n",
    "top_features = feature_scores.sort_values('F_score', ascending=False)[:10]\n",
    "print(top_features)"
   ]
  },
  {
   "cell_type": "code",
   "execution_count": null,
   "metadata": {},
   "outputs": [],
   "source": [
    "X_train, X_test, y_train, y_test = train_test_split(\n",
    "    df[metrics], df['gap'], test_size=0.2, random_state=42\n",
    ")\n",
    "\n",
    "scaler = StandardScaler()\n",
    "X_train = scaler.fit_transform(X_train)\n",
    "X_test = scaler.transform(X_test)\n",
    "\n",
    "# Train model\n",
    "clf = RandomForestClassifier(\n",
    "    n_estimators=100,\n",
    "    class_weight='balanced',\n",
    "    max_depth=None,    # to control tree depth\n",
    "    min_samples_leaf=2 # to prevent overfitting\n",
    ")\n",
    "clf.fit(X_train, y_train)"
   ]
  },
  {
   "cell_type": "code",
   "execution_count": null,
   "metadata": {},
   "outputs": [],
   "source": [
    "y_pred = clf.predict(X_test)\n",
    "y_prob = clf.predict_proba(X_test)\n",
    "\n",
    "print(\"\\nClassification Report:\")\n",
    "print(classification_report(y_test, y_pred))"
   ]
  },
  {
   "cell_type": "code",
   "execution_count": null,
   "metadata": {},
   "outputs": [],
   "source": [
    "import numpy as np # type: ignore\n",
    "\n",
    "feature_importance = pd.DataFrame({\n",
    "    'feature': df[metrics].columns,\n",
    "    'importance': clf.feature_importances_,\n",
    "    'std': np.std([tree.feature_importances_ for tree in clf.estimators_], axis=0)  # Add std across trees\n",
    "}).sort_values('importance', ascending=False)\n",
    "\n",
    "print(feature_importance.head(10))"
   ]
  },
  {
   "cell_type": "code",
   "execution_count": null,
   "metadata": {},
   "outputs": [],
   "source": [
    "from sklearn.inspection import permutation_importance # type: ignore\n",
    "\n",
    "r = permutation_importance(clf, X_test, y_test, n_repeats=10)\n",
    "perm_importance = pd.DataFrame({\n",
    "    'feature': df[metrics].columns,\n",
    "    'perm_importance': r.importances_mean,\n",
    "    'perm_std': r.importances_std\n",
    "}).sort_values('perm_importance', ascending=False)\n",
    "\n",
    "print(perm_importance.head(10))\n"
   ]
  },
  {
   "cell_type": "code",
   "execution_count": null,
   "metadata": {},
   "outputs": [],
   "source": [
    "from sklearn.linear_model import LogisticRegression\n",
    "\n",
    "lr = LogisticRegression(class_weight='balanced')\n",
    "lr.fit(X_train, y_train)\n",
    "\n",
    "y_pred = lr.predict(X_test)\n",
    "y_prob = lr.predict_proba(X_test)\n",
    "\n",
    "print(\"\\nClassification Report:\")\n",
    "print(classification_report(y_test, y_pred))"
   ]
  },
  {
   "cell_type": "code",
   "execution_count": null,
   "metadata": {},
   "outputs": [],
   "source": [
    "df['unresolved'] = df['instance_id'].apply(lambda instance_id: 0 if instance_id in source.results.resolved else 1)\n",
    "\n",
    "correlations = {metric: df[metric].corr(df[\"unresolved\"]) for metric in metrics}\n",
    "\n",
    "# filter out the nans\n",
    "correlations = {metric: corr for metric, corr in correlations.items() if not pd.isna(corr)}\n",
    "\n",
    "# The top 5 metrics with the highest correlation\n",
    "top_metrics = sorted(correlations, key=lambda x: abs(correlations[x]), reverse=True)[:5]\n",
    "for top_metric in top_metrics:\n",
    "    print(f\"{top_metric}: {correlations[top_metric]}\")"
   ]
  },
  {
   "cell_type": "code",
   "execution_count": null,
   "metadata": {},
   "outputs": [],
   "source": [
    "max_stat = (len(data.dataset.instances) - len(source.results.resolved))  * len(source.results.resolved)\n",
    "\n",
    "results = []\n",
    "for metric in metrics:\n",
    "    result = stats.mannwhitneyu(\n",
    "        df[df['unresolved']==0][metric], \n",
    "        df[df['unresolved']==1][metric]\n",
    "    )\n",
    "    results.append({\n",
    "        \"metric\": metric,\n",
    "        \"p value\": result.pvalue,\n",
    "        \"relative statistic\": (result.statistic / max_stat) - 0.5\n",
    "    })\n",
    "\n",
    "print(\"Mann-Whitney U Test Results\")\n",
    "results = sorted(results, key=lambda x: abs(x[\"relative statistic\"]), reverse=True)\n",
    "for result in results[:10]:\n",
    "    print(f\"Metric: {result['metric']}, relative statistic: {result['relative statistic']*100:0.2f}%, p: {result['p value']:.10f}\")"
   ]
  },
  {
   "cell_type": "code",
   "execution_count": null,
   "metadata": {},
   "outputs": [],
   "source": [
    "# F-scores for each feature\n",
    "f_scores, p_values = f_classif(df[metrics], df['unresolved'])\n",
    "f_scores\n",
    "feature_scores = pd.DataFrame({\n",
    "    'feature': df[metrics].columns,\n",
    "    'F_score': f_scores,\n",
    "    'p_value': p_values\n",
    "})\n",
    "top_features = feature_scores.sort_values('F_score', ascending=False)[:10]\n",
    "print(top_features)"
   ]
  },
  {
   "cell_type": "code",
   "execution_count": null,
   "metadata": {},
   "outputs": [],
   "source": [
    "X_train, X_test, y_train, y_test = train_test_split(\n",
    "    df[metrics], df['unresolved'], test_size=0.2, random_state=42\n",
    ")\n",
    "\n",
    "scaler = StandardScaler()\n",
    "X_train = scaler.fit_transform(X_train)\n",
    "X_test = scaler.transform(X_test)\n",
    "\n",
    "# Train model\n",
    "clf = RandomForestClassifier(\n",
    "    n_estimators=100,\n",
    "    class_weight='balanced',\n",
    "    max_depth=None,    # to control tree depth\n",
    "    min_samples_leaf=2 # to prevent overfitting\n",
    ")\n",
    "clf.fit(X_train, y_train)\n",
    "\n",
    "y_pred = clf.predict(X_test)\n",
    "y_prob = clf.predict_proba(X_test)\n",
    "\n",
    "print(\"\\nClassification Report:\")\n",
    "print(classification_report(y_test, y_pred))\n",
    "\n",
    "feature_importance = pd.DataFrame({\n",
    "    'feature': df[metrics].columns,\n",
    "    'importance': clf.feature_importances_,\n",
    "    'std': np.std([tree.feature_importances_ for tree in clf.estimators_], axis=0)\n",
    "}).sort_values('importance', ascending=False)\n",
    "\n",
    "print(feature_importance.head(10))\n",
    "\n",
    "r = permutation_importance(clf, X_test, y_test, n_repeats=10)\n",
    "perm_importance = pd.DataFrame({\n",
    "    'feature': df[metrics].columns,\n",
    "    'perm_importance': r.importances_mean,\n",
    "    'perm_std': r.importances_std\n",
    "}).sort_values('perm_importance', ascending=False)\n",
    "\n",
    "print(perm_importance.head(10))"
   ]
  }
 ],
 "metadata": {
  "kernelspec": {
   "display_name": ".venv",
   "language": "python",
   "name": "python3"
  },
  "language_info": {
   "codemirror_mode": {
    "name": "ipython",
    "version": 3
   },
   "file_extension": ".py",
   "mimetype": "text/x-python",
   "name": "python",
   "nbconvert_exporter": "python",
   "pygments_lexer": "ipython3",
   "version": "3.12.7"
  }
 },
 "nbformat": 4,
 "nbformat_minor": 2
}
