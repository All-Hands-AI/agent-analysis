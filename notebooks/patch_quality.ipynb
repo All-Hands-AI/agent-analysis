{
 "cells": [
  {
   "cell_type": "code",
   "execution_count": 1,
   "metadata": {},
   "outputs": [
    {
     "name": "stdout",
     "output_type": "stream",
     "text": [
      "Skipping 20240620_sweagent_claude3.5sonnet: Cannot find verified/20240620_sweagent_claude3.5sonnet/all_preds.jsonl in the evaluation folder.\n",
      "Skipping 20240820_epam-ai-run-gpt-4o: 1 validation error for Prediction\n",
      "model_name_or_path\n",
      "  Field required [type=missing, input_value={'instance_id': 'sympy__s...\\'xxx\\' ) == \\'xxx\\'\\n'}, input_type=dict]\n",
      "    For further information visit https://errors.pydantic.dev/2.10/v/missing\n",
      "Skipping 20241028_solver: 1 validation error for Prediction\n",
      "  Invalid JSON: EOF while parsing a list at line 1 column 1 [type=json_invalid, input_value='[', input_type=str]\n",
      "    For further information visit https://errors.pydantic.dev/2.10/v/json_invalid\n",
      "Skipping 20241221_codestory_midwit_claude-3-5-sonnet_swe-search: 1 validation error for Prediction\n",
      "model_name_or_path\n",
      "  Field required [type=missing, input_value={'instance_id': 'astropy_...wline at end of file\\n'}, input_type=dict]\n",
      "    For further information visit https://errors.pydantic.dev/2.10/v/missing\n",
      "Skipping 20250117_wandb_programmer_o1_crosscheck5: 1 validation error for Prediction\n",
      "  Invalid JSON: EOF while parsing a list at line 1 column 1 [type=json_invalid, input_value='[', input_type=str]\n",
      "    For further information visit https://errors.pydantic.dev/2.10/v/json_invalid\n",
      "Skipping 20250118_codeshellagent_gemini_2.0_flash_experimental: 2 validation errors for Metadata\n",
      "logs\n",
      "  Input should be a valid URL, relative URL without a base [type=url_parsing, input_value='evaluation/verified/2025...flash_experimental/logs', input_type=str]\n",
      "    For further information visit https://errors.pydantic.dev/2.10/v/url_parsing\n",
      "trajs\n",
      "  Input should be a valid URL, relative URL without a base [type=url_parsing, input_value='evaluation/verified/2025...lash_experimental/trajs', input_type=str]\n",
      "    For further information visit https://errors.pydantic.dev/2.10/v/url_parsing\n",
      "Skipping 20250226_swerl_llama3_70b: Cannot find verified/20250226_swerl_llama3_70b/all_preds.jsonl in the evaluation folder.\n"
     ]
    }
   ],
   "source": [
    "from analysis.models.swe_bench import Split\n",
    "from analysis.models.data import Data\n",
    "\n",
    "data = Data.download(Split.VERIFIED)"
   ]
  },
  {
   "cell_type": "code",
   "execution_count": 2,
   "metadata": {},
   "outputs": [],
   "source": [
    "import unidiff\n",
    "\n",
    "def is_unidiff_parseable(patch: str) -> bool:\n",
    "    try:\n",
    "        unidiff.PatchSet.from_string(patch)\n",
    "        return True\n",
    "    except:\n",
    "        return False"
   ]
  },
  {
   "cell_type": "code",
   "execution_count": null,
   "metadata": {},
   "outputs": [],
   "source": [
    "import pandas as pd\n",
    "\n",
    "rows = []\n",
    "\n",
    "for system, evaluation in data.systems.items():\n",
    "    for prediction in evaluation.predictions:\n",
    "        rows.append({\n",
    "            \"system\": system,\n",
    "            \"instance_id\": prediction.instance_id,\n",
    "            \"patch\": prediction.patch,\n",
    "            \"is_parseable\": is_unidiff_parseable(prediction.patch),\n",
    "            \"resolved\": prediction.instance_id in evaluation.results.resolved\n",
    "        })\n",
    "\n",
    "df = pd.DataFrame(rows)"
   ]
  }
 ],
 "metadata": {
  "kernelspec": {
   "display_name": ".venv",
   "language": "python",
   "name": "python3"
  },
  "language_info": {
   "codemirror_mode": {
    "name": "ipython",
    "version": 3
   },
   "file_extension": ".py",
   "mimetype": "text/x-python",
   "name": "python",
   "nbconvert_exporter": "python",
   "pygments_lexer": "ipython3",
   "version": "3.12.7"
  }
 },
 "nbformat": 4,
 "nbformat_minor": 2
}
