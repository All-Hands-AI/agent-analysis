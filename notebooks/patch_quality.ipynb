{
 "cells": [
  {
   "cell_type": "markdown",
   "metadata": {},
   "source": [
    "This notebook requires pre-computed data. You can get this data by running:\n",
    "\n",
    "`python3 -m analysis download`\n",
    "\n",
    "and then\n",
    "\n",
    "`python3 -m analysis compute-localization`\n",
    "\n",
    "This will build a `data.json` and `localization.csv` file in the root of this directory."
   ]
  },
  {
   "cell_type": "code",
   "execution_count": null,
   "metadata": {},
   "outputs": [],
   "source": [
    "from analysis.models.data import Data\n",
    "\n",
    "with open(\"../data.json\", \"r\") as f:\n",
    "    data = Data.model_validate_json(f.read())"
   ]
  },
  {
   "cell_type": "code",
   "execution_count": null,
   "metadata": {},
   "outputs": [],
   "source": [
    "import pandas as pd\n",
    "\n",
    "df = pd.read_csv(\"../localization.csv\")"
   ]
  },
  {
   "cell_type": "code",
   "execution_count": null,
   "metadata": {},
   "outputs": [],
   "source": [
    "# Count, per system, the number of instances resolved and the number parseable, sorted by number of resolved i\n",
    "agg = df.groupby(\"system\").agg({\n",
    "    \"resolved\": \"sum\",\n",
    "    \"missing_files\": \"mean\",\n",
    "    \"file_match\": \"mean\",\n",
    "    \"file_precision\": \"mean\",\n",
    "    \"function_match\": \"mean\",\n",
    "    \"function_precision\": \"mean\",\n",
    "    \"class_match\": \"mean\",\n",
    "    \"class_precision\": \"mean\"\n",
    "})\n",
    "\n",
    "agg[\"resolution_rate\"] = agg[\"resolved\"] / 500\n",
    "\n",
    "# Sort by the resolution rate\n",
    "agg = agg.sort_values(\"resolution_rate\", ascending=False)"
   ]
  },
  {
   "cell_type": "code",
   "execution_count": null,
   "metadata": {},
   "outputs": [],
   "source": [
    "from analysis.utility import set_column_awards\n",
    "\n",
    "styled_df = agg.copy()\n",
    "\n",
    "for column, descending in [\n",
    "    (\"missing_files\", False),\n",
    "    (\"file_match\", True),\n",
    "    (\"file_precision\", True),\n",
    "    (\"function_match\", True),\n",
    "    (\"function_precision\", True),\n",
    "    (\"class_match\", True),\n",
    "    (\"class_precision\", True),\n",
    "    (\"resolution_rate\", True)\n",
    "]:\n",
    "    set_column_awards(styled_df, column, descending)\n",
    "\n",
    "styled_df"
   ]
  }
 ],
 "metadata": {
  "kernelspec": {
   "display_name": ".venv",
   "language": "python",
   "name": "python3"
  },
  "language_info": {
   "codemirror_mode": {
    "name": "ipython",
    "version": 3
   },
   "file_extension": ".py",
   "mimetype": "text/x-python",
   "name": "python",
   "nbconvert_exporter": "python",
   "pygments_lexer": "ipython3",
   "version": "3.12.7"
  }
 },
 "nbformat": 4,
 "nbformat_minor": 2
}
